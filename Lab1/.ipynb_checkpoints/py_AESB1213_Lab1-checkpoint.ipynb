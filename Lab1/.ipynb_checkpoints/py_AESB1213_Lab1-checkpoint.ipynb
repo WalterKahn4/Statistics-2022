{
 "cells": [
  {
   "cell_type": "markdown",
   "metadata": {},
   "source": [
    "<figure>\n",
    "  <IMG SRC=\"https://raw.githubusercontent.com/mbakker7/exploratory_computing_with_python/master/tudelft_logo.png\" WIDTH=250 ALIGN=\"right\">\n",
    "</figure>\n",
    "\n",
    "# AESB1213 Probability and Statistics Lab\n",
    "*Developed by Sandra Verhagen*\n",
    "## Notebook 1: Probabilities, histograms and summaries"
   ]
  },
  {
   "cell_type": "markdown",
   "metadata": {},
   "source": [
    "In this Notebook, we will apply some of the concepts related to probabilities of events. Python is just used as a tool; the goal is not to learn programming (but hopefully as a side effect, you will start acquiring some basic skills on the fly).\n",
    "\n",
    "Learning objectives:\n",
    "* calculate probabilities of events, including conditional probabilities\n",
    "* apply probability rules (multiplication rule, total probability rule, Bayes rule) \n",
    "* evaluate and interpret graphical summaries of a dataset: histograms, scatterplots and boxplots\n",
    "* evaluate and interpret numerical summaries of a dataset: mean, median, minimum, maximum, quartiles\n",
    "\n",
    "Within the notebook you will need to run each code cell by hitting [SHIFT-ENTER]. We always need to start with importing some libraries, so to get started, run the following code.\n",
    "\n",
    "#### Important: if you restart a notebook, all libraries and data need to be reloaded again. Run all code blocks from the top of the notebook again."
   ]
  },
  {
   "cell_type": "code",
   "execution_count": null,
   "metadata": {},
   "outputs": [],
   "source": [
    "import numpy as np\n",
    "import matplotlib.pyplot as plt\n",
    "import pandas as pd\n",
    "%matplotlib inline"
   ]
  },
  {
   "cell_type": "markdown",
   "metadata": {},
   "source": [
    "\n",
    "## Probabilities with Rock samples\n",
    "Applied Earth Science students collected in total 2000 rock samples from 3 different regions during a fieldwork. For each sample they determined whether it was a sedimentary rock or not. The following events are defined:\n",
    "\n",
    "$R_i$ : sample is from region $i$\n",
    "\n",
    "$S$ : sample is a sedimentary rock\n",
    "\n",
    "The following numbers are given:\n",
    "* 597 samples are from region 1, of which 510 are sedimentary rock\n",
    "* 908 samples are from region 2, of which 840 are sedimentary rock\n",
    "* 495 samples are from region 3, of which 335 are sedimentary rock\n",
    "\n",
    "#### Question 1.1 (fill in the blank): Events $R_1$, $R_2$ and $R_3$ are ...\n",
    "\n",
    "We can now compute the empirical probability that a sample is from region $i$, i.e., $P(R_i)$. (Empirical means that it is calculated based on experimental data). Complete the lines in the following code and then run it."
   ]
  },
  {
   "cell_type": "code",
   "execution_count": null,
   "metadata": {},
   "outputs": [],
   "source": [
    "P_R1 = \n",
    "P_R2 = \n",
    "P_R3 = \n",
    "print('The probability that a sample is from region 1, 2 or 3, respectively:', P_R1, P_R2, P_R3)"
   ]
  },
  {
   "cell_type": "markdown",
   "metadata": {},
   "source": [
    "The following probabilities, $P(X_i)$ are calculated as well:"
   ]
  },
  {
   "cell_type": "code",
   "execution_count": null,
   "metadata": {},
   "outputs": [],
   "source": [
    "P_X1 = 510 / 597\n",
    "P_X2 = 840 / 908 \n",
    "P_X3 = 335 / 495\n",
    "print('The probabilities are:', P_X1, P_X2, P_X3)"
   ]
  },
  {
   "cell_type": "markdown",
   "metadata": {},
   "source": [
    "#### Question 1.2: Probability $P(X_i)$ is equal to: a) $P(R_i \\cap S)$, b) $P(R_i \\cup S)$, c) $P(R_i | S)$, d) $P(S |R_i)$\n",
    "\n",
    "Next, the probabilities $P(Y_i)$ are calculated:"
   ]
  },
  {
   "cell_type": "code",
   "execution_count": null,
   "metadata": {},
   "outputs": [],
   "source": [
    "P_Y1 = P_X1 * P_R1\n",
    "P_Y2 = P_X2 * P_R2 \n",
    "P_Y3 = P_X3 * P_R3\n",
    "print('The probabilities are:', P_Y1, P_Y2, P_Y3)"
   ]
  },
  {
   "cell_type": "markdown",
   "metadata": {},
   "source": [
    "#### Question 1.3: Similarly as in question 1.2, how can we express $P(Y_i)$ in terms of $S$ and $R_i$?\n",
    "\n",
    "As a check, complete the code below to calculate these probabilities directly using the numbers of samples given above question 1.1."
   ]
  },
  {
   "cell_type": "code",
   "execution_count": null,
   "metadata": {},
   "outputs": [],
   "source": [
    "P_Y1d = \n",
    "P_Y2d = \n",
    "P_Y3d = \n",
    "print('The probabilities are:', P_Y1d, P_Y2d, P_Y3d)"
   ]
  },
  {
   "cell_type": "markdown",
   "metadata": {},
   "source": [
    "Assume all 2000 rock samples are stored together, and we pick an arbitrary sample. We are interested in the probability that this is a sedimentary rock, i.e. $P(S)$.\n",
    "\n",
    "#### Question 1.4: Calculate the probability $P(S)$ using the numbers of samples given above question 1.1."
   ]
  },
  {
   "cell_type": "code",
   "execution_count": null,
   "metadata": {},
   "outputs": [],
   "source": [
    "P_Sd = \n",
    "print('Probability to pick sedimentary rock (using numbers of samples)', P_Sd)"
   ]
  },
  {
   "cell_type": "markdown",
   "metadata": {},
   "source": [
    "#### Question 1.5: Calculate the probability $P(S)$ using the probabilities $P(Y_i)$:"
   ]
  },
  {
   "cell_type": "code",
   "execution_count": null,
   "metadata": {},
   "outputs": [],
   "source": [
    "P_S = \n",
    "print('Probability to pick sedimentary rock (using probabilities P_Yi)', P_Sd)"
   ]
  },
  {
   "cell_type": "markdown",
   "metadata": {},
   "source": [
    "In question 1.5 you were in fact asked to use the so called total probability law, which in this case is given as:\n",
    "\n",
    "$$\n",
    "\\begin{align}\n",
    "P(S) &= P(S \\cap R_1) + P(S \\cap R_2) + P(S \\cap R_3) \\\\\n",
    "     &= P(S|R_1) P(R_1) + P(S|R_2) P(R_2) + P(S|R_3) P(R_3)\n",
    "\\end{align}\n",
    "$$\n",
    "\n",
    "#### Question 1.6: For the total probability rule it is required that the $R_i$ are disjoint. Why? And which other requirement must be fulfilled?\n",
    "\n",
    "#### Question 1.7: Calculate the probability that a sample is from region 2 if we know it is a sedimentary rock (using some of the probabilities). Check your answer again using the numbers of samples given."
   ]
  },
  {
   "cell_type": "code",
   "execution_count": null,
   "metadata": {},
   "outputs": [],
   "source": [
    "P_R2givenS =         # complete this line to calculate with the probabilities\n",
    "P_R2givenSd =        # complete this line to calculate with the numbers of samples\n",
    "print('Probability that a sample is from region 2 if we know it is a sedimentary rock:', P_R2givenS)\n",
    "print('Check based on numbers of samples', P_R2givenSd)"
   ]
  },
  {
   "cell_type": "markdown",
   "metadata": {},
   "source": [
    "You just applied Bayes rule, which in this case is given as:\n",
    "    \n",
    "$$\n",
    "\\begin{align}\n",
    "P(R_2|S) = \\frac{P(R_2 \\cap S)}{P(S)} = \\frac{P(S|R_2) P(R_2)}{P(S|R_1) P(R_1) + P(S|R_2) P(R_2) + P(S|R_3) P(R_3)}\n",
    "\\end{align}\n",
    "$$\n",
    "\n",
    "In practice, you may very often not know the actual numbers of samples collected, but only some of the probabilities are given. That is why the probability rules are so important. In this case we have seen that we can calculate different probabilities once the $P(R_i)$ and $P(S|R_i)$ are known.\n"
   ]
  },
  {
   "cell_type": "markdown",
   "metadata": {},
   "source": [
    "## Histograms and summaries with earthquakes\n",
    "\n",
    "We will now have a look at two real datasets related to earthquakes in The Netherlands. "
   ]
  },
  {
   "cell_type": "markdown",
   "metadata": {},
   "source": [
    "Let's first import the datasets with information on induced and tectonic earthquakes in The Netherlands. The datasets is provided by the KNMI from this website: https://www.knmi.nl/kennis-en-datacentrum/dataset/aardbevingscatalogus\n",
    "(note: the excel files were slightly edited, but the data is the same).\n",
    "\n",
    "<details>\n",
    "    <summary><b> If data cannot be loaded and there is an error - click on this line.</b></summary>\n",
    "    <ul>\n",
    "    <li> If you work on your local machine - check whether both <b>Earthquakes_induced.xlsx</b> and <b>Earthquakes_tectonic.xlsx </b> files are located in the same folder with this Python notebook.\n",
    "    <li> If you use Google Colab - check whether the files <b>Earthquakes_induced.xlsx</b> and <b>Earthquakes_tectonic.xlsx </b> are uploaded to server. For that click on the folder icon on the left navbar and you should see Excel files located next to the sample_data folder. If not - click on the upload file button (paper icon with an arrow pointing up) and upload the files. If you leave or restart this pages make sure to upload the files again (they are automatically removed after the end of each working session).</li>\n",
    "    <li> If you use Google Colab and you want to use excel files, which are stored on your Google Drive - uncomment the cell beneath, it will connect this code to your drive. Then, open the file browser (click on the folder icon on the left navbar) and there you should see a new folder 'drive'. Open it and find the location of files <b>Earthquakes_induced.xlsx</b> and <b>Earthquakes_tectonic.xlsx </b> on your Google Drive. Then check whether the same sequence of directories is assigned to the <i>path</i> variable. For example, if you put files on your Google Drive in the folder 'LAB1' then <i>path</i> should be defined like this <code>path = './drive/MyDrive/LAB1/'</code> (instead of <code> path = '' </code>).\n",
    "    You have to re-mount your drive every time you open this assignment in Google Colab.\n",
    "    </ul>\n",
    "    <b>In case if error persists - contact Teacher Assistants.</b>\n",
    "\n",
    "</details>\n",
    "\n",
    "Have look at the excel files to see what kind of information is stored. You will see that the dataset contains data from 1986 and 1911 onwards for the induced and tectonic earthquakes, respectively. The column with heading MAG is the magnitude."
   ]
  },
  {
   "cell_type": "code",
   "execution_count": null,
   "metadata": {},
   "outputs": [],
   "source": [
    "# Uncomment (remove # and space symbols from the beginning of lines 4, 5, 6 and 8) this cell  \n",
    "# only if you use Google Colab and you want to mount your drive\n",
    "#\n",
    "# def mount_drive():\n",
    "#     from google.colab import drive\n",
    "#     drive.mount('/content/drive')\n",
    "\n",
    "# mount_drive()"
   ]
  },
  {
   "cell_type": "code",
   "execution_count": null,
   "metadata": {},
   "outputs": [],
   "source": [
    "def load_data(filename):\n",
    "    path = ''\n",
    "    data = pd.read_excel(path + filename)\n",
    "    return data\n",
    "\n",
    "try:\n",
    "    EQind = load_data('Earthquakes_induced.xlsx')\n",
    "    Mind = np.array(EQind['MAG'])\n",
    "    Dind = np.array(EQind['DEPTH'])\n",
    "except FileNotFoundError:\n",
    "    print('ERROR!\\nFile Earthquakes_induced.xlsx not found')\n",
    "    \n",
    "try:\n",
    "    EQtec = load_data('Earthquakes_tectonic.xlsx')\n",
    "    Mtec = np.array(EQtec['MAG'])\n",
    "    Dtec = np.array(EQtec['DEPTH'])\n",
    "except FileNotFoundError:\n",
    "    print('ERROR!\\nFile Earthquakes_tectonic.xlsx not found')"
   ]
  },
  {
   "cell_type": "markdown",
   "metadata": {},
   "source": [
    "Now we will first create the histogram for the magnitude of the induced earthquakes. We will do this with different *binwidths*. The histogram represents the distribution of the data, in this case the magnitude of the earthquakes. The height $d_i$ of a bin $B_i$ is equal to:\n",
    "\n",
    "$$\n",
    "d_i = \\frac{\\text{number of datapoins in bin } B_i}{n \\cdot binwidth}\n",
    "$$\n",
    "\n",
    "where $n$ is the total number of datapoints and $d_i$ is referred to as the *density*. In fact, we may consider the histogram as a crude estimate of the *probability density function*, which will be introduced later in the course.\n",
    "\n",
    "The histogram will be plotted for the induced earthquakes with 2 different binwidths. Change the values of the binwidth in the code below to see the effect."
   ]
  },
  {
   "cell_type": "code",
   "execution_count": null,
   "metadata": {},
   "outputs": [],
   "source": [
    "plt.figure(figsize=(15, 4))\n",
    "\n",
    "plt.subplot(121)\n",
    "binwidth = 0.1\n",
    "bine = np.arange(0, 7, binwidth)\n",
    "plt.hist(Mind, bins=bine, density='True')\n",
    "plt.xlabel('magnitude')\n",
    "plt.ylabel('density')\n",
    "\n",
    "plt.subplot(122)\n",
    "binwidth = 0.5\n",
    "bine = np.arange(0, 7, binwidth)\n",
    "plt.hist(Mind, bins=bine, density='True')\n",
    "plt.xlabel('magnitude')\n",
    "plt.ylabel('density')\n",
    "\n",
    "print('Mean and Median magnitude of induced earthquakes:', np.mean(Mind),'and', np.median(Mind))\n",
    "print('Min and Max magnitude of induced earthquakes:', np.min(Mind),'and', np.max(Mind))\n",
    "print('Lower and upper quartile:', np.percentile(Mind, 25), 'and', np.percentile(Mind, 75))"
   ]
  },
  {
   "cell_type": "markdown",
   "metadata": {},
   "source": [
    "Above the figures you can also find a numerical summary of the dataset.\n",
    "\n",
    "Similarly, we can create the histograms and numerical summary for the tectonic earthquakes. "
   ]
  },
  {
   "cell_type": "code",
   "execution_count": null,
   "metadata": {},
   "outputs": [],
   "source": [
    "plt.figure(figsize=(15, 4))\n",
    "\n",
    "plt.subplot(121)\n",
    "binwidth = 0.1\n",
    "bine = np.arange(0, 7, binwidth)\n",
    "plt.hist(Mtec, bins=bine, density='True')\n",
    "plt.xlabel('magnitude')\n",
    "plt.ylabel('density')\n",
    "\n",
    "plt.subplot(122)\n",
    "binwidth = 0.5\n",
    "bine = np.arange(0, 7, binwidth)\n",
    "plt.hist(Mtec, bins=bine, density='True')\n",
    "plt.xlabel('magnitude')\n",
    "plt.ylabel('density')\n",
    "\n",
    "print('Mean and Median magnitude of tectonic earthquakes:', np.mean(Mtec), 'and', np.median(Mtec))\n",
    "print('Min and Max magnitude of tectonic earthquakes:', np.min(Mtec), 'and', np.max(Mtec))\n",
    "print('Lower and upper quartile:', np.percentile(Mtec, 25), 'and', np.percentile(Mtec, 75))"
   ]
  },
  {
   "cell_type": "markdown",
   "metadata": {},
   "source": [
    "#### Questions:\n",
    "#### 1.8 Why is the mean larger than the median for both datasets?\n",
    "#### 1.9 What information do you get from evaluating the lower and upper quartile?\n",
    "#### 1.10 Based on the histogram: how can we calculate the empirical probability that a tectonic earthquake has a magnitude between 1 and 3?\n",
    "#### 1.11 Why does it make sense to look at *densities* rather than *frequencies* or *relative frequencies* \\*?\n",
    "\n",
    "\\*Relative frequency = proportion of elements in a bin, also referred to as the *empirical* probability to be in that bin; it is called empirical since the probability is calculated based on actual data."
   ]
  },
  {
   "cell_type": "code",
   "execution_count": null,
   "metadata": {},
   "outputs": [],
   "source": [
    "plt.figure(figsize=(15, 4))\n",
    "\n",
    "plt.subplot(121)\n",
    "plt.boxplot(Mind)\n",
    "plt.ylim([0, 7])\n",
    "plt.title('induced earthquakes')\n",
    "\n",
    "plt.subplot(122)\n",
    "plt.boxplot(Mtec)\n",
    "plt.ylim([0, 7])\n",
    "plt.title('tectonic earthquakes');"
   ]
  },
  {
   "cell_type": "markdown",
   "metadata": {},
   "source": [
    "We will denote the upper quartile as UQ, and the lower quartile as LQ (recall we computed those above).\n",
    "The height of the *box* in the boxplot is equal to the inter-quartile range (IQR), i.e., IQR = UQ – LQ\n",
    "\n",
    "Lower whisker : ends at the smallest observed value (datapoint) in the range \\[ LQ – 1.5$\\cdot$IQR , LQ ) \n",
    "\n",
    "Upper whisker : ends at the largest observed value in the range ( UQ , UQ + 1.5*IQR \\]\n",
    "\n",
    "Compare the two boxplots, and compare with the histograms as well and try to see the logic.\n",
    "\n",
    "You may see that the boxplot gives more information than the numerical summary by means of the whisker and outliers."
   ]
  },
  {
   "cell_type": "markdown",
   "metadata": {},
   "source": [
    "Another graphical summary is the scatterplot. In this case, scatterplots for earthquake magnitude versus depth of the earthquake are made. The scatterplots of both datasets are shown together in one plot on the right-hand side."
   ]
  },
  {
   "cell_type": "code",
   "execution_count": null,
   "metadata": {},
   "outputs": [],
   "source": [
    "plt.figure(figsize=(15, 4))\n",
    "\n",
    "plt.subplot(131)\n",
    "plt.plot(Mind, Dind, 'C1o');\n",
    "plt.xlabel('magnitude')\n",
    "plt.ylabel('depth [km]')\n",
    "plt.title('induced earthquakes')\n",
    "\n",
    "plt.subplot(132)\n",
    "plt.plot(Mtec, Dtec, 'o');\n",
    "plt.xlabel('magnitude')\n",
    "plt.ylabel('depth [km]')\n",
    "plt.title('tectonic earthquakes')\n",
    "\n",
    "plt.subplot(133)\n",
    "plt.plot(Mtec, Dtec, 'o');\n",
    "plt.plot(Mind, Dind, 'C1o');\n",
    "plt.legend(['tectonic', 'induced'])\n",
    "plt.xlabel('magnitude')\n",
    "plt.ylabel('depth [km]')\n",
    "plt.title('all earthquakes');"
   ]
  },
  {
   "cell_type": "markdown",
   "metadata": {},
   "source": [
    "For the induced earthquakes: it is apparently difficult to get a good 'estimate' of the depth (based on observed seismic waves), in most cases the depth is rounded to 2.0 or 3.0 km. Therefore in this case it is not possible to say anything about relation between magnitude and depth.\n",
    "\n",
    "#### 1.12 Do you think there is a relation between magnitude and depth for the tectonic earthquakes?"
   ]
  }
 ],
 "metadata": {
  "kernelspec": {
   "display_name": "Python 3",
   "language": "python",
   "name": "python3"
  },
  "language_info": {
   "codemirror_mode": {
    "name": "ipython",
    "version": 3
   },
   "file_extension": ".py",
   "mimetype": "text/x-python",
   "name": "python",
   "nbconvert_exporter": "python",
   "pygments_lexer": "ipython3",
   "version": "3.8.8"
  }
 },
 "nbformat": 4,
 "nbformat_minor": 1
}
